{
 "cells": [
  {
   "cell_type": "code",
   "execution_count": 3,
   "metadata": {},
   "outputs": [
    {
     "name": "stdout",
     "output_type": "stream",
     "text": [
      "['male']\n"
     ]
    }
   ],
   "source": [
    "from sklearn import tree\n",
    "x=[[121,42,7],[120,46,6],[120,40,6],[154,56,8],[176,66,8],[132,50,6],[162,55,7],\n",
    "  [160,66,8],[125,50,6],[188,60,6],[120,46,6],[156,46,6],[186,85,7],[132,50,6]]\n",
    "y=['female','female','female','male','male','female','male',\n",
    "  'male','female','male','female','female','male','female']\n",
    "clf=tree.DecisionTreeClassifier()\n",
    "clf=clf.fit(x,y)\n",
    "prediction=clf.predict([[170,60,8]])\n",
    "print(prediction)"
   ]
  },
  {
   "cell_type": "code",
   "execution_count": null,
   "metadata": {},
   "outputs": [],
   "source": []
  }
 ],
 "metadata": {
  "kernelspec": {
   "display_name": "Python 3",
   "language": "python",
   "name": "python3"
  },
  "language_info": {
   "codemirror_mode": {
    "name": "ipython",
    "version": 3
   },
   "file_extension": ".py",
   "mimetype": "text/x-python",
   "name": "python",
   "nbconvert_exporter": "python",
   "pygments_lexer": "ipython3",
   "version": "3.7.2"
  }
 },
 "nbformat": 4,
 "nbformat_minor": 2
}
